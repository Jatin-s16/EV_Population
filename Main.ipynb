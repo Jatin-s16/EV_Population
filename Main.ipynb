{
 "cells": [
  {
   "cell_type": "code",
   "execution_count": 2,
   "metadata": {},
   "outputs": [
    {
     "name": "stderr",
     "output_type": "stream",
     "text": [
      "Matplotlib is building the font cache; this may take a moment.\n"
     ]
    },
    {
     "name": "stdout",
     "output_type": "stream",
     "text": [
      "      State  Model Year       Make Electric Vehicle Type  Electric Range  \\\n",
      "0        WA        2020      TESLA                   BEV             266   \n",
      "1        WA        2024        BMW                  PHEV              39   \n",
      "2        WA        2024        BMW                  PHEV              39   \n",
      "3        WA        2018      TESLA                   BEV             215   \n",
      "4        WA        2012  CHEVROLET                  PHEV              35   \n",
      "...     ...         ...        ...                   ...             ...   \n",
      "92671    WA        2015     NISSAN                   BEV              84   \n",
      "92672    WA        2018      TESLA                   BEV             215   \n",
      "92673    WA        2019      TESLA                   BEV             220   \n",
      "92674    WA        2022   CHRYSLER                  PHEV              32   \n",
      "92675    WA        2018      TESLA                   BEV             215   \n",
      "\n",
      "       Base MSRP  Legislative District CAFV Eligibility Simple  \n",
      "0              0                  46.0                Eligible  \n",
      "1              0                  46.0                Eligible  \n",
      "2              0                  43.0                Eligible  \n",
      "3              0                   1.0                Eligible  \n",
      "4              0                  35.0                Eligible  \n",
      "...          ...                   ...                     ...  \n",
      "92671          0                  30.0                Eligible  \n",
      "92672          0                   1.0                Eligible  \n",
      "92673          0                  44.0                Eligible  \n",
      "92674          0                  45.0                Eligible  \n",
      "92675          0                  41.0                Eligible  \n",
      "\n",
      "[92676 rows x 8 columns]\n"
     ]
    }
   ],
   "source": [
    "import pandas as pd\n",
    "import numpy as np\n",
    "import seaborn as sns\n",
    "import matplotlib.pyplot as plt\n",
    "\n",
    "data = pd.read_csv(\"/Users/jatin/Documents/Jatin/DS_Projects/EV_Population/EV_Population.csv\")\n",
    "df = pd.DataFrame(data)\n",
    "print(df)"
   ]
  }
 ],
 "metadata": {
  "kernelspec": {
   "display_name": "Python 3",
   "language": "python",
   "name": "python3"
  },
  "language_info": {
   "codemirror_mode": {
    "name": "ipython",
    "version": 3
   },
   "file_extension": ".py",
   "mimetype": "text/x-python",
   "name": "python",
   "nbconvert_exporter": "python",
   "pygments_lexer": "ipython3",
   "version": "3.12.1"
  }
 },
 "nbformat": 4,
 "nbformat_minor": 2
}
