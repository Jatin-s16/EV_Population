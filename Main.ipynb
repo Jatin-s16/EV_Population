{
 "cells": [
  {
   "cell_type": "code",
   "execution_count": 2,
   "metadata": {},
   "outputs": [
    {
     "name": "stderr",
     "output_type": "stream",
     "text": [
      "Matplotlib is building the font cache; this may take a moment.\n"
     ]
    },
    {
     "name": "stdout",
     "output_type": "stream",
     "text": [
      "      State  Model Year       Make Electric Vehicle Type  Electric Range  \\\n",
      "0        WA        2020      TESLA                   BEV             266   \n",
      "1        WA        2024        BMW                  PHEV              39   \n",
      "2        WA        2024        BMW                  PHEV              39   \n",
      "3        WA        2018      TESLA                   BEV             215   \n",
      "4        WA        2012  CHEVROLET                  PHEV              35   \n",
      "...     ...         ...        ...                   ...             ...   \n",
      "92671    WA        2015     NISSAN                   BEV              84   \n",
      "92672    WA        2018      TESLA                   BEV             215   \n",
      "92673    WA        2019      TESLA                   BEV             220   \n",
      "92674    WA        2022   CHRYSLER                  PHEV              32   \n",
      "92675    WA        2018      TESLA                   BEV             215   \n",
      "\n",
      "       Base MSRP  Legislative District CAFV Eligibility Simple  \n",
      "0              0                  46.0                Eligible  \n",
      "1              0                  46.0                Eligible  \n",
      "2              0                  43.0                Eligible  \n",
      "3              0                   1.0                Eligible  \n",
      "4              0                  35.0                Eligible  \n",
      "...          ...                   ...                     ...  \n",
      "92671          0                  30.0                Eligible  \n",
      "92672          0                   1.0                Eligible  \n",
      "92673          0                  44.0                Eligible  \n",
      "92674          0                  45.0                Eligible  \n",
      "92675          0                  41.0                Eligible  \n",
      "\n",
      "[92676 rows x 8 columns]\n"
     ]
    }
   ],
   "source": [
    "import pandas as pd\n",
    "import numpy as np\n",
    "import seaborn as sns\n",
    "import matplotlib.pyplot as plt\n",
    "\n",
    "data = pd.read_csv(\"/Users/jatin/Documents/Jatin/DS_Projects/EV_Population/EV_Population.csv\")\n",
    "df = pd.DataFrame(data)\n",
    "print(df)"
   ]
  },
  {
   "cell_type": "code",
   "execution_count": 4,
   "metadata": {},
   "outputs": [
    {
     "name": "stdout",
     "output_type": "stream",
     "text": [
      "        Model Year  Electric Range      Base MSRP  Legislative District\n",
      "count  92676.00000    92676.000000   92676.000000          92676.000000\n",
      "mean    2018.91494      115.509388    2018.564461             28.506798\n",
      "std        3.27711       98.815377   11390.579691             14.649595\n",
      "min     1999.00000        6.000000       0.000000              1.000000\n",
      "25%     2017.00000       30.000000       0.000000             17.000000\n",
      "50%     2019.00000       73.000000       0.000000             32.000000\n",
      "75%     2021.00000      215.000000       0.000000             41.000000\n",
      "max     2025.00000      337.000000  845000.000000             49.000000\n",
      "<class 'pandas.core.frame.DataFrame'>\n",
      "RangeIndex: 92676 entries, 0 to 92675\n",
      "Data columns (total 8 columns):\n",
      " #   Column                   Non-Null Count  Dtype  \n",
      "---  ------                   --------------  -----  \n",
      " 0   State                    92676 non-null  object \n",
      " 1   Model Year               92676 non-null  int64  \n",
      " 2   Make                     92676 non-null  object \n",
      " 3   Electric Vehicle Type    92676 non-null  object \n",
      " 4   Electric Range           92676 non-null  int64  \n",
      " 5   Base MSRP                92676 non-null  int64  \n",
      " 6   Legislative District     92676 non-null  float64\n",
      " 7   CAFV Eligibility Simple  92676 non-null  object \n",
      "dtypes: float64(1), int64(3), object(4)\n",
      "memory usage: 5.7+ MB\n",
      "None\n"
     ]
    }
   ],
   "source": [
    "print(df.describe())\n",
    "print(df.info())"
   ]
  },
  {
   "cell_type": "code",
   "execution_count": 8,
   "metadata": {},
   "outputs": [
    {
     "name": "stdout",
     "output_type": "stream",
     "text": [
      "State                      0\n",
      "Model Year                 0\n",
      "Make                       0\n",
      "Electric Vehicle Type      0\n",
      "Electric Range             0\n",
      "Base MSRP                  0\n",
      "Legislative District       0\n",
      "CAFV Eligibility Simple    0\n",
      "dtype: int64\n",
      "Base MSRP\n",
      "0         89396\n",
      "69900      1324\n",
      "31950       366\n",
      "52900       220\n",
      "32250       143\n",
      "59900       128\n",
      "54950       118\n",
      "39995       114\n",
      "36900       102\n",
      "44100        94\n",
      "64950        89\n",
      "45600        79\n",
      "33950        71\n",
      "52650        71\n",
      "34995        65\n",
      "55700        57\n",
      "36800        54\n",
      "53400        39\n",
      "81100        24\n",
      "98950        22\n",
      "110950       21\n",
      "90700        15\n",
      "75095        12\n",
      "184400       11\n",
      "102000       11\n",
      "43700         8\n",
      "109000        7\n",
      "89100         7\n",
      "91250         4\n",
      "32995         3\n",
      "845000        1\n",
      "Name: count, dtype: int64\n"
     ]
    }
   ],
   "source": [
    "null_count = df.isnull().sum()\n",
    "print(null_count)\n",
    "\n",
    "base_unique_count = df[\"Base MSRP\"].value_counts()\n",
    "print(base_unique_count)"
   ]
  },
  {
   "cell_type": "code",
   "execution_count": 13,
   "metadata": {},
   "outputs": [
    {
     "name": "stdout",
     "output_type": "stream",
     "text": [
      "State count is \n",
      " State\n",
      "WA    92676\n",
      "Name: count, dtype: int64 \n",
      "\n",
      "Make count is \n",
      " Make\n",
      "TESLA                   25228\n",
      "NISSAN                  10406\n",
      "CHEVROLET                9697\n",
      "TOYOTA                   7585\n",
      "BMW                      6075\n",
      "JEEP                     5646\n",
      "KIA                      4451\n",
      "FORD                     3912\n",
      "CHRYSLER                 3700\n",
      "VOLVO                    3630\n",
      "AUDI                     2465\n",
      "HYUNDAI                  1309\n",
      "VOLKSWAGEN               1092\n",
      "MITSUBISHI               1041\n",
      "HONDA                     869\n",
      "MAZDA                     839\n",
      "PORSCHE                   829\n",
      "DODGE                     708\n",
      "MERCEDES-BENZ             567\n",
      "FIAT                      558\n",
      "LEXUS                     451\n",
      "MINI                      334\n",
      "LINCOLN                   326\n",
      "SMART                     243\n",
      "JAGUAR                    201\n",
      "POLESTAR                  145\n",
      "LAND ROVER                 95\n",
      "CADILLAC                   91\n",
      "ALFA ROMEO                 89\n",
      "SUBARU                     65\n",
      "FISKER                     11\n",
      "TH!NK                       5\n",
      "AZURE DYNAMICS              4\n",
      "BENTLEY                     4\n",
      "WHEEGO ELECTRIC CARS        3\n",
      "LAMBORGHINI                 2\n",
      "Name: count, dtype: int64 \n",
      "\n",
      "Model Year count is \n",
      " Model Year\n",
      "2003        1\n",
      "2002        2\n",
      "1999        2\n",
      "2000        7\n",
      "2008       22\n",
      "2010       24\n",
      "2011      696\n",
      "2025      888\n",
      "2012     1531\n",
      "2014     3433\n",
      "2013     4243\n",
      "2022     4559\n",
      "2015     4685\n",
      "2021     4725\n",
      "2016     5431\n",
      "2023     7711\n",
      "2017     8294\n",
      "2024     9215\n",
      "2019    10826\n",
      "2020    12167\n",
      "2018    14214\n",
      "Name: count, dtype: int64 \n",
      "\n"
     ]
    }
   ],
   "source": [
    "state_unique_count = df[\"State\"].value_counts()\n",
    "print(\"State count is \\n\", state_unique_count, \"\\n\")\n",
    "\n",
    "make_unique_count = df[\"Make\"].value_counts()\n",
    "print(\"Make count is \\n\", make_unique_count, \"\\n\")\n",
    "\n",
    "model_unique_count = df[\"Model Year\"].value_counts()\n",
    "model_unique_count_sorted = model_unique_count.sort_values()\n",
    "print(\"Model Year count is \\n\", model_unique_count_sorted, \"\\n\")"
   ]
  },
  {
   "cell_type": "code",
   "execution_count": 16,
   "metadata": {},
   "outputs": [
    {
     "name": "stdout",
     "output_type": "stream",
     "text": [
      "Type count is \n",
      " Electric Vehicle Type\n",
      "BEV     46798\n",
      "PHEV    45878\n",
      "Name: count, dtype: int64 \n",
      "\n"
     ]
    }
   ],
   "source": [
    "type_unique_count = df[\"Electric Vehicle Type\"].value_counts()\n",
    "print(\"Type count is \\n\", type_unique_count, \"\\n\")"
   ]
  }
 ],
 "metadata": {
  "kernelspec": {
   "display_name": "Python 3",
   "language": "python",
   "name": "python3"
  },
  "language_info": {
   "codemirror_mode": {
    "name": "ipython",
    "version": 3
   },
   "file_extension": ".py",
   "mimetype": "text/x-python",
   "name": "python",
   "nbconvert_exporter": "python",
   "pygments_lexer": "ipython3",
   "version": "3.12.1"
  }
 },
 "nbformat": 4,
 "nbformat_minor": 2
}
